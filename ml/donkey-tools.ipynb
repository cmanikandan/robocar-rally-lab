{
 "cells": [
  {
   "cell_type": "markdown",
   "metadata": {},
   "source": [
    "# Donkey library tools\n",
    "\n",
    "Before training our model using the sample data explored in the [introduction chapter](./donkey-intro.ipynb), let's take a look the tools provided by the [Donkey](https://github.com/wroscoe/donkey) library.\n",
    "\n",
    "This python library has several use-cases. After installation, you can `import` it as a normal python library to create a custom `Donkey` car with components that suite your car:\n",
    "```python\n",
    "import donkeycar as dk\n",
    "```\n",
    "\n",
    "There is also a handy CLI:\n",
    "```bash\n",
    "donkey --help\n",
    "```\n",
    "\n",
    "In this chapter, we'll have a look at the CLI, and leave the library for later. The CLI has several subcommands for different tasks. You'll find the complete API documentation here:\n",
    "\n",
    "- [http://docs.donkeycar.com/utility/donkey/](http://docs.donkeycar.com/utility/donkey/)"
   ]
  },
  {
   "cell_type": "markdown",
   "metadata": {},
   "source": [
    "## Install\n",
    "\n",
    "The library is pre-installed on the car, but you need to install it on the [Jupyter Notebook](https://docs.aws.amazon.com/sagemaker/latest/dg/how-it-works-notebooks-instances.html) (or your `host` if you prefer running it locally):"
   ]
  },
  {
   "cell_type": "code",
   "execution_count": null,
   "metadata": {},
   "outputs": [],
   "source": [
    "# Make sure we're in SageMaker root\n",
    "%cd ~/SageMaker\n",
    "\n",
    "# Remove any old versions of the library\n",
    "!rm -rf ~/SageMaker/donkey"
   ]
  },
  {
   "cell_type": "code",
   "execution_count": null,
   "metadata": {},
   "outputs": [],
   "source": [
    "# Clone the Donkey library git\n",
    "!git clone https://github.com/wroscoe/donkey.git"
   ]
  },
  {
   "cell_type": "code",
   "execution_count": null,
   "metadata": {},
   "outputs": [],
   "source": [
    "# Keras is pinned to version 2.0.8 in the Donkey requirements. Change this to allow a newer version\n",
    "!sed -i -e 's/keras==2.0.8/keras>=2.1/g' donkey/setup.py\n",
    "\n",
    "# Install\n",
    "!pip install -e donkey"
   ]
  },
  {
   "cell_type": "code",
   "execution_count": null,
   "metadata": {},
   "outputs": [],
   "source": [
    "# Test the CLI\n",
    "!donkey --help"
   ]
  },
  {
   "cell_type": "markdown",
   "metadata": {},
   "source": [
    "## Download sample data\n",
    "\n",
    "Download the same sample driving runs as in the [introduction](./donkey-intro.ipynb):"
   ]
  },
  {
   "cell_type": "code",
   "execution_count": null,
   "metadata": {},
   "outputs": [],
   "source": [
    "# Download sample data\n",
    "sample_data_location = 's3://jayway-robocar-raw-data/samples'\n",
    "!aws s3 cp {sample_data_location}/ore.zip ."
   ]
  },
  {
   "cell_type": "code",
   "execution_count": null,
   "metadata": {},
   "outputs": [],
   "source": [
    "!unzip -o ore.zip"
   ]
  },
  {
   "cell_type": "markdown",
   "metadata": {},
   "source": [
    "## Car related commands\n",
    "\n",
    "Three of the commands relate to the managing and driving of a *Donkey car*:\n",
    "- `findcar` - Tries to discover the IP-address of your car on the network. The search is restricted to the same subnet as the host (/24), and based on the MAC addresses of Raspberry PIs, hence it will return the IP-address of all Raspberry PIs connected to your subnet (not only Donkey cars).\n",
    "- `calibrate` - Calibrate *throttle* and *steering* on a newly installed car.\n",
    "- `createcar` - See [createcar](#createcar)\n",
    "\n",
    "The `createcar` and `calibrate` commands are used in the [prepare car](../docs/PREPARE-CAR.md) track (see [README](../README.md)), and are further explained there.\n",
    "\n",
    "The `createcar` command is also used when starting training, so we will have a closer look at it here"
   ]
  },
  {
   "cell_type": "markdown",
   "metadata": {},
   "source": [
    "### createcar\n",
    "\n",
    "Create a new *Donkey car application* to the specified *path* based on the specified *template*.\n",
    "\n",
    "The default *Donkey car application* allows you to **drive** and **train** your car.\n",
    "\n",
    "A template specifies what *Donkey parts* should be a part of this *Donkey car application*. Templates can be found in `donkey/donkeycar/templates`:"
   ]
  },
  {
   "cell_type": "code",
   "execution_count": null,
   "metadata": {},
   "outputs": [],
   "source": [
    "# This command assumes you've installed the Donkey library to the project root\n",
    "!ls -l ./donkey/donkeycar/templates"
   ]
  },
  {
   "cell_type": "code",
   "execution_count": null,
   "metadata": {},
   "outputs": [],
   "source": [
    "# Create a new car with the default parameters\n",
    "!donkey createcar"
   ]
  },
  {
   "cell_type": "markdown",
   "metadata": {},
   "source": [
    "The default parameters are:\n",
    "- **`template=donkey2.py`** - Use `donkey2.py` template\n",
    "- **`path=~/d2`** - Install to the `d2` directory in `$HOME`\n",
    "- **`config=config_defaults.py`** - Copy the `config_defaults.py` file to `~/d2/config.py` to be used as default config file.\n",
    "\n",
    "You can have a look at the `donkey2.py` template file just to get a feeling for how the car is set up:"
   ]
  },
  {
   "cell_type": "code",
   "execution_count": null,
   "metadata": {},
   "outputs": [],
   "source": [
    "!cat donkey/donkeycar/templates/donkey2.py"
   ]
  },
  {
   "cell_type": "markdown",
   "metadata": {},
   "source": [
    "## Tub related commands\n",
    "\n",
    "Instead, let's have a look at the commands related to *Tubs*:\n",
    "- `tubcheck`\n",
    "- `tubclean`\n",
    "- `tubhist`\n",
    "- `tubplot`"
   ]
  },
  {
   "cell_type": "markdown",
   "metadata": {},
   "source": [
    "### tubcheck\n",
    "\n",
    "Check the *Tub* for invalid records. If `--fix` is `True`, deletes the invalid records."
   ]
  },
  {
   "cell_type": "code",
   "execution_count": null,
   "metadata": {},
   "outputs": [],
   "source": [
    "!donkey tubcheck tub_8_18-02-09"
   ]
  },
  {
   "cell_type": "markdown",
   "metadata": {},
   "source": [
    "### tubhist\n",
    "\n",
    "Produce a histogram of record type frequency in the given tub"
   ]
  },
  {
   "cell_type": "code",
   "execution_count": null,
   "metadata": {},
   "outputs": [],
   "source": [
    "!donkey tubhist tub_8_18-02-09"
   ]
  },
  {
   "cell_type": "markdown",
   "metadata": {},
   "source": [
    "Note that the histogram cannot be shown in the notebook since the expression that shows the figure, `matplotlib.pyplot.show()`, is run in a subshell. It will simply print the memory location of the figure.\n",
    "\n",
    "However, we could try to run the python code in the notebook:"
   ]
  },
  {
   "cell_type": "code",
   "execution_count": null,
   "metadata": {},
   "outputs": [],
   "source": [
    "%matplotlib inline\n",
    "from donkeycar.management.base import ShowHistogram\n",
    "\n",
    "hst = ShowHistogram()\n",
    "hst.show_histogram('./tub_8_18-02-09', None)"
   ]
  },
  {
   "cell_type": "markdown",
   "metadata": {},
   "source": [
    "### tubclean\n",
    "\n",
    "`tubclean` is a tool for manually examining the *Tub*. It will start a webserver that you can connect to to browse images and metrics."
   ]
  },
  {
   "cell_type": "code",
   "execution_count": null,
   "metadata": {},
   "outputs": [],
   "source": [
    "!donkey tubclean tub_8_18-02-09"
   ]
  },
  {
   "cell_type": "markdown",
   "metadata": {},
   "source": [
    "The webserver runs on http://localhost:8886 per default.\n",
    "\n",
    "**Sadly**, there doesn't seem to be a way to access that port from outside the notebook, hence you'll have to run this on your local host to get it to work."
   ]
  },
  {
   "cell_type": "markdown",
   "metadata": {},
   "source": [
    "### tubplot\n",
    "\n",
    "Plot model predictions for angle and throttle against data from tubs.\n",
    "\n",
    "**Sadly**, as of 2018-03-21, this command is not implemented correctly."
   ]
  },
  {
   "cell_type": "code",
   "execution_count": null,
   "metadata": {},
   "outputs": [],
   "source": [
    "!donkey tubplot tub_8_18-02-09"
   ]
  },
  {
   "cell_type": "markdown",
   "metadata": {},
   "source": [
    "## Video\n",
    "\n",
    "There is a handly utility for creating a video from the images in the tub.\n",
    "\n",
    "It requires the `config.py` file used by the car at the time of the recording, which we don't have. But we could try to use the default config file in `donkey/donkeycar/templates/config_defaults.py` instead:"
   ]
  },
  {
   "cell_type": "code",
   "execution_count": null,
   "metadata": {},
   "outputs": [],
   "source": [
    "!donkey makemovie --tub tub_8_18-02-09 --config donkey/donkeycar/templates/config_defaults.py"
   ]
  },
  {
   "cell_type": "markdown",
   "metadata": {},
   "source": [
    "[Run video](./tub_movie.mp4)"
   ]
  },
  {
   "cell_type": "markdown",
   "metadata": {},
   "source": [
    "## Simulator\n",
    "\n",
    "Finally, there is a Donkey car simulator that allows you to both record new data, and run trained models.\n",
    "\n",
    "![Donkey Simulator](http://www.donkeycar.com/uploads/7/8/1/7/7817903/animation_orig.gif)\n",
    "\n",
    "- http://docs.donkeycar.com/guide/simulator/\n",
    "\n",
    "**As with `tubclean`**, the simulator runs as a webserver on your localhost. Thus, there is currently no way of accessing it on a *SageMaker Notebook*."
   ]
  },
  {
   "cell_type": "markdown",
   "metadata": {},
   "source": [
    "## Next\n",
    "\n",
    "[Training the model](./donkey-train.ipynb)"
   ]
  }
 ],
 "metadata": {
  "kernelspec": {
   "display_name": "conda_tensorflow_p36",
   "language": "python",
   "name": "conda_tensorflow_p36"
  },
  "language_info": {
   "codemirror_mode": {
    "name": "ipython",
    "version": 3
   },
   "file_extension": ".py",
   "mimetype": "text/x-python",
   "name": "python",
   "nbconvert_exporter": "python",
   "pygments_lexer": "ipython3",
   "version": "3.6.2"
  }
 },
 "nbformat": 4,
 "nbformat_minor": 2
}
