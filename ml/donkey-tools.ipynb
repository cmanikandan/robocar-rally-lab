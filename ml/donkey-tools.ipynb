{
 "cells": [
  {
   "cell_type": "markdown",
   "metadata": {},
   "source": [
    "# Donkey library tools\n",
    "\n",
    "Let's take a look the tools provided by the [Donkey](https://github.com/wroscoe/donkey) library."
   ]
  },
  {
   "cell_type": "markdown",
   "metadata": {},
   "source": [
    "## The Donkey library\n",
    "\n",
    "The [Donkey library](https://github.com/wroscoe/donkey) has several components.\n",
    "\n",
    "It is first and foremost a python library installed where your other python libraries are (e.g. system python or virtualenv). After installation, you can `import` it as any normal python library:\n",
    "\n",
    "```python\n",
    "import donkeycar as dk\n",
    "```\n",
    "\n",
    "A `Vehicle` application, installed to the `~/d2` directory by default. This is where you'll find the `manage.py` script, which is used for both **driving** and **training**.\n",
    "\n",
    "```bash\n",
    "~/d2/manage.py --help\n",
    "```\n",
    "\n",
    "**Finally**, it has a CLI with tools mainly used to aid training. This is what we'll dig into in this chapter.\n",
    "\n",
    "```bash\n",
    "donkey --help\n",
    "```\n",
    "\n",
    "You'll find the complete CLI API documentation here:\n",
    "- [http://docs.donkeycar.com/utility/donkey/](http://docs.donkeycar.com/utility/donkey/)"
   ]
  },
  {
   "cell_type": "markdown",
   "metadata": {},
   "source": [
    "### Install the Donkey library\n",
    "\n",
    "If you already installed the [Donkey](https://github.com/wroscoe/donkey) library, you can [skip](#Train) this step.\n",
    "\n",
    "Otherwise, go ahead:"
   ]
  },
  {
   "cell_type": "code",
   "execution_count": null,
   "metadata": {},
   "outputs": [],
   "source": [
    "# Make sure we're in SageMaker root\n",
    "%cd ~/SageMaker\n",
    "\n",
    "# Remove any old versions of the library\n",
    "!rm -rf ~/SageMaker/donkey\n",
    "\n",
    "# Clone the Donkey library git\n",
    "!git clone https://github.com/wroscoe/donkey.git"
   ]
  },
  {
   "cell_type": "code",
   "execution_count": null,
   "metadata": {},
   "outputs": [],
   "source": [
    "# Update Donkey dependencies\n",
    "\n",
    "# Keras is pinned to version 2.0.8 in the Donkey requirements. Change this to allow a newer version\n",
    "!sed -i -e 's/keras==2.0.8/keras>=2.1.2/g' ~/SageMaker/donkey/setup.py\n",
    "!sed -i -e 's/tensorflow>=1.1/tensorflow-gpu>=1.4/g' ~/SageMaker/donkey/setup.py\n",
    "\n",
    "# Install\n",
    "!pip uninstall --yes donkeycar\n",
    "!pip install ~/SageMaker/donkey"
   ]
  },
  {
   "cell_type": "code",
   "execution_count": null,
   "metadata": {},
   "outputs": [],
   "source": [
    "# Test the CLI\n",
    "!donkey --help"
   ]
  },
  {
   "cell_type": "markdown",
   "metadata": {},
   "source": [
    "## Download sample data\n",
    "\n",
    "We've created some sample data for you start working on, so that you don't have to wait for your car to be ready. Since he sample data is recorded on another car on another track, it might not be representative for you car. However, it will allow you to get started, and it will provide a good foundation for you to continue training once you get data from you own car.\n",
    "\n",
    "If you already downloaded the sample data, you can [skip](#The-Donkey-CLI) this step.\n",
    "\n",
    "Otherwise, go ahead and download the sample driving run, called *Tubs*, in Donkey:"
   ]
  },
  {
   "cell_type": "code",
   "execution_count": null,
   "metadata": {},
   "outputs": [],
   "source": [
    "from sagemaker import get_execution_role\n",
    "\n",
    "# Bucket location to get training data\n",
    "sample_data_location = 's3://jayway-robocar-raw-data/samples'"
   ]
  },
  {
   "cell_type": "code",
   "execution_count": null,
   "metadata": {},
   "outputs": [],
   "source": [
    "# Create a data directory\n",
    "!mkdir -pv ~/SageMaker/data\n",
    "!aws s3 cp {sample_data_location}/ore.zip ~/SageMaker/data"
   ]
  },
  {
   "cell_type": "code",
   "execution_count": null,
   "metadata": {},
   "outputs": [],
   "source": [
    "# Unzip to data dir\n",
    "!unzip -o ~/SageMaker/data/ore.zip -d ~/SageMaker/data"
   ]
  },
  {
   "cell_type": "markdown",
   "metadata": {},
   "source": [
    "## The Donkey CLI"
   ]
  },
  {
   "cell_type": "markdown",
   "metadata": {},
   "source": [
    "### Car related commands\n",
    "\n",
    "Three of the commands relate to the managing and driving of a *Donkey car*:\n",
    "- `findcar` - Tries to discover the IP-address of your car on the network. The search is restricted to the same subnet as the host (/24), and based on the MAC addresses of Raspberry PIs, hence it will return the IP-address of all Raspberry PIs connected to your subnet (not only Donkey cars).\n",
    "- `calibrate` - Calibrate *throttle* and *steering* on a newly installed car.\n",
    "- `createcar` - See [createcar](#createcar)\n",
    "\n",
    "The `createcar` and `calibrate` commands are used in the [prepare car](../docs/PREPARE-CAR.md) track (see [README](../README.md)), and are further explained there.\n",
    "\n",
    "The `createcar` command is also used when starting training, so we will have a closer look at it here"
   ]
  },
  {
   "cell_type": "markdown",
   "metadata": {},
   "source": [
    "### createcar\n",
    "\n",
    "Create a new *Donkey car application* to the specified *path* based on the specified *template*.\n",
    "\n",
    "The default *Donkey car application* allows you to **drive** and **train** your car.\n",
    "\n",
    "A template specifies what *Donkey parts* should be a part of this *Donkey car application*. Templates can be found in `donkey/donkeycar/templates`:"
   ]
  },
  {
   "cell_type": "code",
   "execution_count": null,
   "metadata": {},
   "outputs": [],
   "source": [
    "# This command assumes you've installed the Donkey library to the project root\n",
    "!ls -l ./donkey/donkeycar/templates"
   ]
  },
  {
   "cell_type": "code",
   "execution_count": null,
   "metadata": {},
   "outputs": [],
   "source": [
    "# Create a new car with the default parameters\n",
    "!donkey createcar"
   ]
  },
  {
   "cell_type": "markdown",
   "metadata": {},
   "source": [
    "The default parameters are:\n",
    "- **`template=donkey2.py`** - Use `donkey2.py` template\n",
    "- **`path=~/d2`** - Install to the `d2` directory in `$HOME`\n",
    "- **`config=config_defaults.py`** - Copy the `config_defaults.py` file to `~/d2/config.py` to be used as default config file.\n",
    "\n",
    "You can have a look at the `donkey2.py` template file just to get a feeling for how the car is set up:"
   ]
  },
  {
   "cell_type": "code",
   "execution_count": null,
   "metadata": {},
   "outputs": [],
   "source": [
    "!cat donkey/donkeycar/templates/donkey2.py"
   ]
  },
  {
   "cell_type": "markdown",
   "metadata": {},
   "source": [
    "## Tub related commands\n",
    "\n",
    "Instead, let's have a look at the commands related to *Tubs*:\n",
    "- `tubcheck`\n",
    "- `tubclean`\n",
    "- `tubhist`\n",
    "- `tubplot`"
   ]
  },
  {
   "cell_type": "markdown",
   "metadata": {},
   "source": [
    "### tubcheck\n",
    "\n",
    "Check the *Tub* for invalid records. If `--fix` is `True`, deletes the invalid records."
   ]
  },
  {
   "cell_type": "code",
   "execution_count": null,
   "metadata": {},
   "outputs": [],
   "source": [
    "!donkey tubcheck ~/SageMaker/data/tub_8_18-02-09"
   ]
  },
  {
   "cell_type": "markdown",
   "metadata": {},
   "source": [
    "### tubhist\n",
    "\n",
    "Produce a histogram of record type frequency in the given tub"
   ]
  },
  {
   "cell_type": "code",
   "execution_count": null,
   "metadata": {},
   "outputs": [],
   "source": [
    "!donkey tubhist ~/SageMaker/data/tub_8_18-02-09"
   ]
  },
  {
   "cell_type": "markdown",
   "metadata": {},
   "source": [
    "Note that the histogram cannot be shown in the notebook since the expression that shows the figure, `matplotlib.pyplot.show()`, is run in a subshell. It will simply print the memory location of the figure.\n",
    "\n",
    "However, we could try to run the python code in the notebook:"
   ]
  },
  {
   "cell_type": "code",
   "execution_count": null,
   "metadata": {},
   "outputs": [],
   "source": [
    "%matplotlib inline\n",
    "from donkeycar.management.base import ShowHistogram\n",
    "\n",
    "hst = ShowHistogram()\n",
    "hst.show_histogram('./data/tub_8_18-02-09', None)"
   ]
  },
  {
   "cell_type": "markdown",
   "metadata": {},
   "source": [
    "### tubclean\n",
    "\n",
    "`tubclean` is a tool for manually examining the *Tub*. It will start a webserver that you can connect to to browse images and metrics."
   ]
  },
  {
   "cell_type": "code",
   "execution_count": null,
   "metadata": {},
   "outputs": [],
   "source": [
    "!donkey tubclean ~/SageMaker/data/tub_8_18-02-09"
   ]
  },
  {
   "cell_type": "markdown",
   "metadata": {},
   "source": [
    "The webserver runs on http://localhost:8886 per default.\n",
    "\n",
    "**Sadly**, there doesn't seem to be a way to access that port from outside the notebook, hence you'll have to run this on your local host to get it to work."
   ]
  },
  {
   "cell_type": "markdown",
   "metadata": {},
   "source": [
    "### tubplot\n",
    "\n",
    "Plot model predictions for angle and throttle against data from tubs.\n",
    "\n",
    "**Sadly**, as of 2018-03-21, this command is not implemented correctly."
   ]
  },
  {
   "cell_type": "code",
   "execution_count": null,
   "metadata": {},
   "outputs": [],
   "source": [
    "!donkey tubplot ~/SageMaker/data/tub_8_18-02-09"
   ]
  },
  {
   "cell_type": "markdown",
   "metadata": {},
   "source": [
    "## Video\n",
    "\n",
    "There is a handly utility for creating a video from the images in the tub.\n",
    "\n",
    "It requires the `config.py` file used by the car at the time of the recording, which we don't have. But we could try to use the default config file in `donkey/donkeycar/templates/config_defaults.py` instead:"
   ]
  },
  {
   "cell_type": "code",
   "execution_count": null,
   "metadata": {},
   "outputs": [],
   "source": [
    "!donkey makemovie --tub ~/SageMaker/data/tub_8_18-02-09 --config donkey/donkeycar/templates/config_defaults.py"
   ]
  },
  {
   "cell_type": "code",
   "execution_count": null,
   "metadata": {},
   "outputs": [],
   "source": [
    "ls -la"
   ]
  },
  {
   "cell_type": "markdown",
   "metadata": {},
   "source": [
    "[Run video](../../tub_movie.mp4)"
   ]
  },
  {
   "cell_type": "markdown",
   "metadata": {},
   "source": [
    "## Simulator\n",
    "\n",
    "Finally, there is a Donkey car simulator that allows you to both record new data, and run trained models.\n",
    "\n",
    "![Donkey Simulator](http://www.donkeycar.com/uploads/7/8/1/7/7817903/animation_orig.gif)\n",
    "\n",
    "- http://docs.donkeycar.com/guide/simulator/\n",
    "\n",
    "**As with `tubclean`**, the simulator runs as a webserver on your localhost. Thus, there is currently no way of accessing it on a *SageMaker Notebook*."
   ]
  },
  {
   "cell_type": "markdown",
   "metadata": {},
   "source": [
    "## Next\n",
    "\n",
    "[Creating a Donkey Vehicle](./donkey-nn-vehicle.ipynb)"
   ]
  }
 ],
 "metadata": {
  "kernelspec": {
   "display_name": "conda_tensorflow_p36",
   "language": "python",
   "name": "conda_tensorflow_p36"
  },
  "language_info": {
   "codemirror_mode": {
    "name": "ipython",
    "version": 3
   },
   "file_extension": ".py",
   "mimetype": "text/x-python",
   "name": "python",
   "nbconvert_exporter": "python",
   "pygments_lexer": "ipython3",
   "version": "3.6.4"
  }
 },
 "nbformat": 4,
 "nbformat_minor": 2
}
